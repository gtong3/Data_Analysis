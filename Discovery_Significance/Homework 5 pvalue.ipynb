{
 "cells": [
  {
   "cell_type": "markdown",
   "id": "adf1ae09",
   "metadata": {},
   "source": [
    "# Homework 5\n",
    "\n",
    "\n",
    "For a simple counting experiment, the expected background event is $b$ and the observed event is $n$. \n",
    "The best estimator for signal event $s$ is:\n",
    "$$s=n-b.$$\n",
    "\n",
    "There are different metrics to evaluate discovery significance.\n",
    "\n",
    "* Simplified Z0 \n",
    "$$ Z_{0, simple} = s/\\sqrt{b}$$\n",
    "\n",
    "* Asympototic Z0\n",
    "$$ Z_{0, asymptotic} = \\sqrt{2((s+b)\\mathrm{ln} (1+s/b)-s)}$$\n",
    "\n",
    "* Bayesian Z0\n",
    "$$ p-value = \\int_{n}^{\\infty}\\mathrm{Poisson}(k|b) dk$$\n",
    "$$Z_{0, Bayesian} = \\mathrm{Gauss_{1-sided}(p-value)} $$\n",
    "\n",
    "\n",
    "In this exercise, we will implement each of the metric and compare consistency.\n"
   ]
  },
  {
   "cell_type": "code",
   "execution_count": 23,
   "id": "e3dbc4fb",
   "metadata": {},
   "outputs": [],
   "source": [
    "import numpy as np\n",
    "import matplotlib.pyplot as plt\n",
    "import iminuit.minimize as minimize\n",
    "import scipy\n",
    "from scipy.stats import poisson\n",
    "\n",
    "# Define test statistics q_0 for Frequentist approach\n",
    "# 1. We require signal event s >0 for positive signal yield.\n",
    "#    Therefore, the test statistics q_0 is 0 if N_obs <= Nb\n",
    "# 2. Compute two Poisson loglikelihood of \n",
    "#    a) backgorund only model\n",
    "#    b) signal+background model\n",
    "#    Evaluate -2 log likelihood ratio between a) and b)\n",
    "\n",
    "def q0(N_obs, Nb):\n",
    "    # Signal events for positive signal yield\n",
    "    if N_obs <= Nb:\n",
    "        return 0\n",
    "    # Two Poisson loglikelihood models & calculated ratio\n",
    "    else:\n",
    "        #Arbitrary small constant added to ensure non-zero result\n",
    "        # Logarithm is taken before ratio to then subtract so as to avoid divide by zero\n",
    "        loglikebg = np.log(poisson.pmf(N_obs, Nb) + 1e-100)\n",
    "        loglikesigbg = np.log(poisson.pmf(N_obs, N_obs) + 1e-100) + np.log(poisson.pmf(Nb, Nb) + 1e-100)\n",
    "        lllratio = loglikebg - loglikesigbg\n",
    "    return -2 * lllratio"
   ]
  },
  {
   "cell_type": "markdown",
   "id": "bf377faa",
   "metadata": {},
   "source": [
    "Implement four metrics:"
   ]
  },
  {
   "cell_type": "code",
   "execution_count": 24,
   "id": "23c3758c",
   "metadata": {},
   "outputs": [],
   "source": [
    "def SimplifiedZ0(N_obs,N_b):\n",
    "    # Write your code here\n",
    "    s = N_obs - N_b\n",
    "    return s/np.sqrt(N_b)\n",
    "\n",
    "def AsymptoticZ0(N_obs,N_b):\n",
    "    # Write your code here\n",
    "    s = N_obs - N_b\n",
    "    Zscore = np.sqrt(2 * ((s + N_b) * np.log(1 + s / N_b) - s))\n",
    "    return Zscore\n",
    "\n",
    "\n",
    "def BayesianZ0(N_obs,N_b):\n",
    "    # Write your code here\n",
    "    pvalue = 1-poisson.cdf(N_obs, N_b)\n",
    "    Zscore= scipy.stats.norm.ppf(1-pvalue)\n",
    "    return Zscore"
   ]
  },
  {
   "cell_type": "markdown",
   "id": "2c04ff2e",
   "metadata": {},
   "source": [
    "Now, let's apply our code for numerical calculations.\n",
    "\n",
    "Consider the case that background only model with yields b=0.5 and observed events n=5.\n",
    "\n",
    "Calclate discovery significance for each of the metric, respectively."
   ]
  },
  {
   "cell_type": "code",
   "execution_count": 25,
   "id": "f165924a",
   "metadata": {},
   "outputs": [
    {
     "name": "stdout",
     "output_type": "stream",
     "text": [
      "-446.4911676688687\n",
      "6.363961030678928\n",
      "3.7451102693966782\n",
      "4.186492134133442\n"
     ]
    }
   ],
   "source": [
    "Nobs=5\n",
    "Nb=0.5    \n",
    "\n",
    "# Write your code here\n",
    "SimplifiedZ0 = SimplifiedZ0(Nobs,Nb)\n",
    "\n",
    "AsymptoticZ0 = AsymptoticZ0(Nobs,Nb)\n",
    "\n",
    "BayesianZ0 = BayesianZ0(Nobs,Nb)\n",
    "\n",
    "teststat = q0(Nobs,Nb)\n",
    "\n",
    "print(teststat)\n",
    "print(SimplifiedZ0)\n",
    "print(AsymptoticZ0)\n",
    "print(BayesianZ0)"
   ]
  },
  {
   "cell_type": "markdown",
   "id": "758c2bb2",
   "metadata": {},
   "source": [
    "Describe the consistency between different metrics.\n",
    "\n",
    "Write your answers here:\n",
    "Well, for the simplified & asymptotic Z0 both end up using signal events, whereas Bayesian Z0 doesn't.\n",
    "They're all within a magnitude of 10, so it gives a pretty good range of what the Z-score should be."
   ]
  }
 ],
 "metadata": {
  "kernelspec": {
   "display_name": "Python 3 (ipykernel)",
   "language": "python",
   "name": "python3"
  },
  "language_info": {
   "codemirror_mode": {
    "name": "ipython",
    "version": 3
   },
   "file_extension": ".py",
   "mimetype": "text/x-python",
   "name": "python",
   "nbconvert_exporter": "python",
   "pygments_lexer": "ipython3",
   "version": "3.12.0"
  }
 },
 "nbformat": 4,
 "nbformat_minor": 5
}
