{
 "cells": [
  {
   "cell_type": "markdown",
   "metadata": {},
   "source": [
    "# Frequentist vs Bayesian significance"
   ]
  },
  {
   "cell_type": "markdown",
   "metadata": {},
   "source": [
    "For a simple counting experiment, the expected background event is $b$ and the observed event is $n$. \n",
    "The best estimator for signal event $s$ is:\n",
    "$$ s = n - b $$\n",
    "In this exercise, we will implement Frequentist significance calculation.\n",
    "\n",
    "$$ p-value =  \\int_{q_{0,n}}^{\\infty} f(q_0|b) dq_0 $$\n",
    "$$Z_{0, Frequentist} = \\mathrm{Z score\\ 1-tailed\\ (p-value)} $$\n",
    ", where $f(q_0|b)$ is distribution of test statistics $q_0$ in background only hypothesis.\n",
    "The test statistics is defined as likelihood ratio between backogrund only model and the best fit model \n",
    "$$ q_0 = -2 \\mathrm{ln} \\frac{L(n|s=0,b)}{L(n|s,b)} $$\n",
    "In the simple counting experiment, the Likelihood $L$ is Poisson distribution. The test statistics can be written as\n",
    "$$ q_0 = -2 \\mathrm{ln} \\frac{\\mathrm{Poisson}(n|b)}{\\mathrm{Poisson}(n|s+b)}$$\n",
    "\n",
    "\n"
   ]
  },
  {
   "cell_type": "code",
   "execution_count": null,
   "metadata": {},
   "outputs": [],
   "source": [
    "import numpy as np\n",
    "import matplotlib.pyplot as plt\n",
    "import iminuit.minimize as minimize\n",
    "from tqdm import tqdm\n",
    "import scipy\n",
    "from scipy.stats import poisson\n",
    "\n",
    "# Define test statistics q_0 for Frequentist approach\n",
    "# 1. We require signal event s >0 for positive signal yield.\n",
    "#    Therefore, the test statistics q_0 is 0 if N_obs <= Nb\n",
    "# 2. Compute two Poisson loglikelihood of \n",
    "#    a) backgorund only model\n",
    "#    b) signal+background model\n",
    "#    Evaluate -2 log likelihood ratio between a) and b)\n",
    "\n",
    "def q0(N_obs,N_b):\n",
    "    #Write your code here\n",
    "    q0_out=0\n",
    "\n",
    "    return q0_out"
   ]
  },
  {
   "cell_type": "code",
   "execution_count": null,
   "metadata": {},
   "outputs": [],
   "source": [
    "def FreqnetistZ0(N_obs,N_b):\n",
    "    #set random seed to guarantee reproducibility\n",
    "    np.random.seed(seed=8)\n",
    "\n",
    "    # Step1. Generate f(q_0|B) distribtuion\n",
    "    # Generate toy experiments based on background only model and compute q_0 for each experiment\n",
    "    # Write your code here\n",
    "\n",
    "    \n",
    "    # Step2. Compute p-value. The fraction of toy experiments with q_0 greater or eqal to q_{0,obs}\n",
    "    # write your code here\n",
    "\n",
    "\n",
    "    return Zscore\n"
   ]
  },
  {
   "cell_type": "markdown",
   "metadata": {},
   "source": [
    "Now, let's apply our code for numerical calculations.\n",
    "\n",
    "Consider the case that backogrund only model with yields b=0.5 and observed events n=5.\n",
    "\n",
    "Calclate discovery significance."
   ]
  },
  {
   "cell_type": "code",
   "execution_count": null,
   "metadata": {},
   "outputs": [],
   "source": [
    "Nobs=5\n",
    "Nb=0.5    \n",
    "\n",
    "# Write your code here\n",
    "print(\"Z0freq:%.2f\"%(FreqnetistZ0(Nobs,Nb)))"
   ]
  },
  {
   "cell_type": "markdown",
   "metadata": {},
   "source": [
    "Q1: How is the number compared to the Baysian signficance from homework5?\n",
    "Ans (write here):\n"
   ]
  },
  {
   "cell_type": "markdown",
   "metadata": {},
   "source": [
    "Consdier a background only model with yields b=4 and observed events n=5. Calculate Baysian signifiance and Frequqnt signficance, and compare the results."
   ]
  },
  {
   "cell_type": "code",
   "execution_count": null,
   "metadata": {},
   "outputs": [],
   "source": [
    "# Write your code here"
   ]
  }
 ],
 "metadata": {
  "kernelspec": {
   "display_name": "Python 3 (ipykernel)",
   "language": "python",
   "name": "python3"
  },
  "language_info": {
   "codemirror_mode": {
    "name": "ipython",
    "version": 3
   },
   "file_extension": ".py",
   "mimetype": "text/x-python",
   "name": "python",
   "nbconvert_exporter": "python",
   "pygments_lexer": "ipython3",
   "version": "3.12.0"
  }
 },
 "nbformat": 4,
 "nbformat_minor": 4
}
